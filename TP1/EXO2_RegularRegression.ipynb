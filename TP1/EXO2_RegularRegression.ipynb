{
 "cells": [
  {
   "cell_type": "code",
   "execution_count": 15,
   "metadata": {
    "scrolled": true
   },
   "outputs": [
    {
     "data": {
      "image/png": "[encoded data removed]",
      "text/plain": [
       "<matplotlib.figure.Figure at 0x7fcf5232b860>"
      ]
     },
     "metadata": {},
     "output_type": "display_data"
    },
    {
     "data": {
      "image/png": "[encoded data removed]",
      "text/plain": [
       "<matplotlib.figure.Figure at 0x7fcf522a1550>"
      ]
     },
     "metadata": {},
     "output_type": "display_data"
    },
    {
     "name": "stdout",
     "output_type": "stream",
     "text": [
      "0.0368606838317\n"
     ]
    }
   ],
   "source": [
    "#inspire de http://scikit-learn.org/stable/auto_examples/linear_model/plot_lasso_and_elasticnet.html\n",
    "\n",
    "\n",
    "import numpy as np\n",
    "import matplotlib.pyplot as plt\n",
    "\n",
    "from sklearn.metrics import r2_score\n",
    "\n",
    "# generation de donnee synthetiques...\n",
    "np.random.seed(31)\n",
    "\n",
    "#n=100, n=75, n=50, n=25\n",
    "#... definition de n et p\n",
    "n = 75\n",
    "p =  200   #remarque : n<200 => necessite de selectionner des variables\n",
    "\n",
    "#... simulation de X\n",
    "X = np.random.randn(n, p) #remarque : on ne tient pas en compte les $beta_0$\n",
    "\n",
    "#... generation du vecteur beta dans lequel seules 10 valeurs sont non-nulles\n",
    "beta = 3 * np.random.randn(p)\n",
    "inds = np.arange(p)\n",
    "np.random.shuffle(inds)\n",
    "beta[inds[10:]] = 0 \n",
    "\n",
    "#... simulation de y \n",
    "y = np.dot(X, beta) + (0.01 * np.random.normal(size=n))\n",
    "# REMARQUE IMPORTANTE : y ne dépend que des variables i pour lesquelles beta[i] est non-nul\n",
    "\n",
    "# ... coupe en deux les donnees en donnees d'apprentissage et donnes test\n",
    "thresh=n // 2\n",
    "X_train = X[thresh:]\n",
    "y_train = y[thresh:]\n",
    "X_test = X[:thresh]\n",
    "y_test = y[:thresh]\n",
    "\n",
    "# regression lineaire avec regularisation Lasso ...\n",
    "\n",
    "#... regression\n",
    "from sklearn.linear_model import Lasso\n",
    "\n",
    "alpha = 0.1\n",
    "lasso_regressor = Lasso(alpha=alpha)\n",
    "lasso_regressor.fit(X_train, y_train)\n",
    "\n",
    "y_pred_lasso = lasso_regressor.predict(X_test)\n",
    "r2_score_lasso = r2_score(y_test, y_pred_lasso)\n",
    "\n",
    "#... representation du resultat\n",
    "\n",
    "fig = plt.figure()\n",
    "plt.plot(y_test, y_pred_lasso, 'r.')\n",
    "plt.xlabel('True value')\n",
    "plt.ylabel('Predicted value')\n",
    "plt.title('True vs predicted value (r2='+str(r2_score_lasso)+')')\n",
    "plt.show()\n",
    "\n",
    "\n",
    "\n",
    "fig = plt.figure()\n",
    "plt.plot(lasso_regressor.coef_, 'r.')\n",
    "plt.plot(beta, 'b.')\n",
    "plt.legend(('Beta estime', 'Beta reel'), loc='lower right')\n",
    "plt.title('Coefficients de beta')\n",
    "plt.show()\n",
    "print(np.mean(np.abs(lasso_regressor.coef_-beta)))\n"
   ]
  },
  {
   "cell_type": "markdown",
   "metadata": {},
   "source": [
    "### QUESTION 1:\n",
    "Jouez l'exemple avec n=100, n=75, n=50, n=25. Qu'en deduisez vous sur l'impact du nombre d'observations\n",
    "\n",
    "Moins il y a d'observations, plus il y a d'erreur"
   ]
  },
  {
   "cell_type": "markdown",
   "metadata": {},
   "source": [
    "### QUESTION 2:\n",
    "On garde n=75. Utiliser la validation croisee de type K-folds pour trouver le meilleur coefficient alpha\n",
    "au sens de R2.\n",
    "AIDE : Pour comprendre l'utilisation de K-folds sous sklearn vous pouvez jouer l'exemple ci-dessous\n",
    "\n"
   ]
  },
  {
   "cell_type": "code",
   "execution_count": 34,
   "metadata": {},
   "outputs": [
    {
     "name": "stdout",
     "output_type": "stream",
     "text": [
      "0.24347635787\n",
      "0.87305678718\n",
      "0.968657242328\n",
      "0.989114681611\n",
      "0.994541687443\n",
      "0.997009791916\n",
      "0.998326425559\n",
      "0.99878329202\n",
      "0.998689902978\n",
      "0.998541583071\n"
     ]
    },
    {
     "name": "stderr",
     "output_type": "stream",
     "text": [
      "/home/vacat/x.olive/students/lib/python3.6/site-packages/sklearn/linear_model/coordinate_descent.py:491: ConvergenceWarning: Objective did not converge. You might want to increase the number of iterations. Fitting data with very small alpha may cause precision problems.\n",
      "  ConvergenceWarning)\n"
     ]
    }
   ],
   "source": [
    "from sklearn.model_selection import KFold\n",
    "\n",
    "data = np.random.randn(12,3)\n",
    "kf = KFold(n_splits=3)\n",
    "alpha_lst=[0.0001,0.001,0.01,0.1,1,10] #recherche grossiere\n",
    "alpha_lst=[0.001,0.002,0.003,0.004,0.005,0.006,0.007,0.008,0.009,0.01] #recherche grossiere\n",
    "for alpha in alpha_lst:\n",
    "    r2_lst=[]\n",
    "    for train, test in kf.split(X):\n",
    "        \"\"\"\n",
    "        print(\"+++++++++++++++++++++++++++++++++++++++\")\n",
    "        print('train='+str(train)+':')\n",
    "        print(str(data[train,:]))\n",
    "        print('test='+str(test)+':')\n",
    "        print(str(data[test,:]))\n",
    "        print(\"+++++++++++++++++++++++++++++++++++++++\")\n",
    "        \"\"\"\n",
    "        X_train = X[train]\n",
    "        y_train = y[train]\n",
    "        X_test = X[test]\n",
    "        y_test = y[test]\n",
    "\n",
    "        lasso_regressor = Lasso(alpha=alpha)\n",
    "        lasso_regressor.fit(X_train, y_train)\n",
    "\n",
    "        y_pred_lasso = lasso_regressor.predict(X_test)\n",
    "        r2_score_lasso = r2_score(y_test, y_pred_lasso)\n",
    "        r2_lst.append(r2_score_lasso)\n",
    "    print(np.mean(r2_lst))\n",
    "#the best one seems to be 0.008\n"
   ]
  },
  {
   "cell_type": "markdown",
   "metadata": {},
   "source": [
    "### QUESTION 3:\n",
    "EVENTUELLEMENT : Comparez les resultats LASSO avec ceux d'ElasticNet\n",
    "Utilisez : from sklearn.linear_model import ElasticNet\n",
    "puis : enet_regressor = ElasticNet(alpha=alpha, l1_ratio=0.7)\n"
   ]
  },
  {
   "cell_type": "code",
   "execution_count": 38,
   "metadata": {},
   "outputs": [
    {
     "name": "stderr",
     "output_type": "stream",
     "text": [
      "/home/vacat/x.olive/students/lib/python3.6/site-packages/sklearn/linear_model/coordinate_descent.py:491: ConvergenceWarning: Objective did not converge. You might want to increase the number of iterations. Fitting data with very small alpha may cause precision problems.\n",
      "  ConvergenceWarning)\n"
     ]
    },
    {
     "name": "stdout",
     "output_type": "stream",
     "text": [
      "0.24347635787\n",
      "-0.0748281012088\n",
      "--------\n",
      "0.87305678718\n",
      "0.429587418098\n",
      "--------\n",
      "0.968657242328\n",
      "0.555570107402\n",
      "--------\n",
      "0.989114681611\n",
      "0.604254452101\n",
      "--------\n",
      "0.994541687443\n",
      "0.616616394555\n",
      "--------\n",
      "0.997009791916\n",
      "0.621095343638\n",
      "--------\n",
      "0.998326425559\n",
      "0.624443678138\n",
      "--------\n",
      "0.99878329202\n",
      "0.625567378286\n",
      "--------\n",
      "0.998689902978\n",
      "0.626216572806\n",
      "--------\n",
      "0.998541583071\n",
      "0.62714290157\n",
      "--------\n"
     ]
    }
   ],
   "source": [
    "from sklearn.linear_model import ElasticNet\n",
    "from sklearn.model_selection import KFold\n",
    "\n",
    "data = np.random.randn(12,3)\n",
    "kf = KFold(n_splits=3)\n",
    "alpha_lst=[0.0001,0.001,0.01,0.1,1,10] #recherche grossiere\n",
    "alpha_lst=[0.001,0.002,0.003,0.004,0.005,0.006,0.007,0.008,0.009,0.01] #recherche grossiere\n",
    "#alpha_lst=[0.08]\n",
    "for alpha in alpha_lst:\n",
    "    r2_lst,r2_enet_lst=[],[]\n",
    "    for train, test in kf.split(X):\n",
    "        \n",
    "        X_train = X[train]\n",
    "        y_train = y[train]\n",
    "        X_test = X[test]\n",
    "        y_test = y[test]\n",
    "\n",
    "        lasso_regressor = Lasso(alpha=alpha)\n",
    "        enet_regressor = ElasticNet(alpha=alpha, l1_ratio=0.7)\n",
    "        lasso_regressor.fit(X_train, y_train)\n",
    "        enet_regressor.fit(X_train, y_train)\n",
    "        \n",
    "        y_pred_lasso = lasso_regressor.predict(X_test)\n",
    "        r2_score_lasso = r2_score(y_test, y_pred_lasso)\n",
    "        r2_lst.append(r2_score_lasso)\n",
    "        \n",
    "        y_pred_enet = enet_regressor.predict(X_test)\n",
    "        r2_score_enet = r2_score(y_test, y_pred_enet)\n",
    "        r2_enet_lst.append(r2_score_enet)\n",
    "    print(np.mean(r2_lst))\n",
    "    print(np.mean(r2_enet_lst))\n",
    "    print(\"--------\")"
   ]
  }
 ],
 "metadata": {
  "kernelspec": {
   "display_name": "Python 3",
   "language": "python",
   "name": "python3"
  },
  "language_info": {
   "codemirror_mode": {
    "name": "ipython",
    "version": 3
   },
   "file_extension": ".py",
   "mimetype": "text/x-python",
   "name": "python",
   "nbconvert_exporter": "python",
   "pygments_lexer": "ipython3",
   "version": "3.6.4"
  }
 },
 "nbformat": 4,
 "nbformat_minor": 2
}
