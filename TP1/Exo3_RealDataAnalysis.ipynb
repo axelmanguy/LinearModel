{
 "cells": [
  {
   "cell_type": "code",
   "execution_count": 4,
   "metadata": {},
   "outputs": [
    {
     "ename": "NameError",
     "evalue": "name 'LogisticRegression' is not defined",
     "output_type": "error",
     "traceback": [
      "\u001b[0;31m---------------------------------------------------------------------------\u001b[0m",
      "\u001b[0;31mNameError\u001b[0m                                 Traceback (most recent call last)",
      "\u001b[0;32m<ipython-input-4-71a2ebc59fe0>\u001b[0m in \u001b[0;36m<module>\u001b[0;34m()\u001b[0m\n\u001b[1;32m     36\u001b[0m \u001b[0;34m\u001b[0m\u001b[0m\n\u001b[1;32m     37\u001b[0m \u001b[0;32mfrom\u001b[0m \u001b[0msklearn\u001b[0m\u001b[0;34m.\u001b[0m\u001b[0mlinear_model\u001b[0m \u001b[0;32mimport\u001b[0m \u001b[0mRidge\u001b[0m\u001b[0;34m\u001b[0m\u001b[0m\n\u001b[0;32m---> 38\u001b[0;31m \u001b[0mlogisticRegr\u001b[0m \u001b[0;34m=\u001b[0m \u001b[0mLogisticRegression\u001b[0m\u001b[0;34m(\u001b[0m\u001b[0;34m)\u001b[0m\u001b[0;34m\u001b[0m\u001b[0m\n\u001b[0m\u001b[1;32m     39\u001b[0m \u001b[0mc\u001b[0m\u001b[0;34m,\u001b[0m\u001b[0mi\u001b[0m\u001b[0;34m,\u001b[0m\u001b[0mn\u001b[0m\u001b[0;34m=\u001b[0m\u001b[0mlogisticRegr\u001b[0m\u001b[0;34m.\u001b[0m\u001b[0mfit\u001b[0m\u001b[0;34m(\u001b[0m\u001b[0mX_scaled\u001b[0m\u001b[0;34m,\u001b[0m\u001b[0mY\u001b[0m\u001b[0;34m)\u001b[0m\u001b[0;34m\u001b[0m\u001b[0m\n\u001b[1;32m     40\u001b[0m \u001b[0mprint\u001b[0m\u001b[0;34m(\u001b[0m\u001b[0mc\u001b[0m\u001b[0;34m,\u001b[0m\u001b[0mi\u001b[0m\u001b[0;34m,\u001b[0m\u001b[0mn\u001b[0m\u001b[0;34m)\u001b[0m\u001b[0;34m\u001b[0m\u001b[0m\n",
      "\u001b[0;31mNameError\u001b[0m: name 'LogisticRegression' is not defined"
     ]
    }
   ],
   "source": [
    "import pandas\n",
    "import numpy as np\n",
    "import matplotlib.pyplot as plt\n",
    "from sklearn import preprocessing\n",
    "\n",
    "#1) READ AND EXTRACT DATA\n",
    "\n",
    "#1.1) get data out of the csv file\n",
    "dataframe=pandas.read_csv(\"./RealMedicalData2.csv\",sep=';',decimal=b',')\n",
    "\n",
    "listColNames=list(dataframe.columns)\n",
    "\n",
    "\n",
    "#1.2) extract X and Y as numpy arrays\n",
    "\n",
    "XY=dataframe.values\n",
    "ColNb_Y=listColNames.index('Treatment')\n",
    "\n",
    "\n",
    "Y=XY[:,ColNb_Y].reshape((XY.shape[0],1))   #reshape is to make sure that Y is a column vector\n",
    "X = np.delete(XY, ColNb_Y, 1)\n",
    "\n",
    "X_scaled = preprocessing.scale(X)\n",
    "\n",
    "listColNames.pop(ColNb_Y)     #to make it contains the column names of X only\n",
    "\n",
    "#2) EXPLORE THE DATA\n",
    "\"\"\"\n",
    "for Col in range(len(listColNames)):\n",
    "    plt.plot(X[:,Col],Y[:],'.')\n",
    "    plt.xlabel(listColNames[Col])\n",
    "    plt.ylabel('Disease progression')\n",
    "    plt.show()\n",
    "\"\"\"\n",
    "#3) PERFORM THE REGRESSION\n",
    "\n",
    "from sklearn.linear_model import Ridge\n",
    "logisticRegr = LogisticRegression()\n",
    "c,i,n=logisticRegr.fit(X_scaled,Y)\n",
    "print(c,i,n)\n"
   ]
  },
  {
   "cell_type": "markdown",
   "metadata": {},
   "source": [
    "### QUESTION 1: \n",
    "Ouvrir le fichier RealMedicalData.csv (par exemple avec libreoffice) puis comprendre \n",
    "            chaque instruction du code"
   ]
  },
  {
   "cell_type": "code",
   "execution_count": 4,
   "metadata": {
    "collapsed": true
   },
   "outputs": [],
   "source": [
    "#ok"
   ]
  },
  {
   "cell_type": "markdown",
   "metadata": {},
   "source": [
    "### QUESTION 2: \n",
    "Trouver une bonne valeur de alpha pour la regression Ridge et Lasso en utilisant la\n",
    "            separant les observations en un jeu d'apprentissage et un jeu de validation\n",
    "              -> Est-ce que les deux méthodes ont un bon pouvoir de prediction (utiliser metrics.r2_score) ?"
   ]
  },
  {
   "cell_type": "code",
   "execution_count": 18,
   "metadata": {},
   "outputs": [
    {
     "name": "stdout",
     "output_type": "stream",
     "text": [
      "41.5208375547\n",
      "41.5208414722\n",
      "------1e-07------\n",
      "41.5162688847\n",
      "41.5201659614\n",
      "------0.0001------\n",
      "41.4759061967\n",
      "41.5140844181\n",
      "------0.001------\n",
      "41.0814588916\n",
      "41.4536722769\n",
      "------0.01------\n",
      "32.958866514\n",
      "40.8843324957\n",
      "------0.1------\n",
      "15.2312879815\n",
      "36.7548464803\n",
      "------1------\n",
      "14.220066841\n",
      "24.1892134258\n",
      "------10------\n",
      "14.220066841\n",
      "16.6184393247\n",
      "------100------\n",
      "14.220066841\n",
      "14.5715834794\n",
      "------1000------\n",
      "14.220066841\n",
      "14.2237497228\n",
      "------100000------\n"
     ]
    }
   ],
   "source": [
    "from sklearn.linear_model import ElasticNet\n",
    "from sklearn.model_selection import KFold\n",
    "from sklearn.metrics import mean_squared_error\n",
    "\n",
    "kf = KFold(n_splits=3)\n",
    "alpha_lst=[0.0000001,0.0001,0.001,0.01,0.1,1,10,100,1000,100000] #recherche grossiere\n",
    "#alpha_lst=[0.001,0.002,0.003,0.004,0.005,0.006,0.007,0.008,0.009,0.01] #recherche grossiere\n",
    "#alpha_lst=[0.08]\n",
    "for k,alpha in enumerate(alpha_lst):\n",
    "    r2_lst,r2_ridge_lst=[],[]\n",
    "    for train, test in kf.split(X_scaled):\n",
    "        \n",
    "        X_train = X_scaled[train]\n",
    "        y_train = Y[train]\n",
    "        X_test = X_scaled[test]\n",
    "        y_test = Y[test]\n",
    "\n",
    "        ridge_regressor=Ridge(alpha=alpha, fit_intercept=True)\n",
    "        ridge_regressor.fit(X_train, y_train)\n",
    "        \n",
    "        lasso_regressor=Lasso(alpha=alpha, fit_intercept=True)\n",
    "        lasso_regressor.fit(X_train, y_train)\n",
    "        \n",
    "        \n",
    "        y_pred_lasso = lasso_regressor.predict(X_test)\n",
    "        r2_score_lasso = mean_squared_error(y_test, y_pred_lasso)\n",
    "        r2_lst.append(r2_score_lasso)\n",
    "        \n",
    "        y_pred_ridge = ridge_regressor.predict(X_test)\n",
    "        r2_score_ridge = mean_squared_error(y_test, y_pred_ridge)\n",
    "        r2_ridge_lst.append(r2_score_ridge)\n",
    "    \n",
    "    print(np.mean(r2_lst))\n",
    "    print(np.mean(r2_ridge_lst))\n",
    "    print('------'+str(alpha)+'------')"
   ]
  },
  {
   "cell_type": "markdown",
   "metadata": {},
   "source": [
    "### QUESTION 3: \n",
    "Afin de comprendre le lien entre l'evolution de la maladie et les variables etudiees,\n",
    "            on sélectionne tout au plus 3 variables avec le lasso.\n",
    "            -> Utiliser une procedure de type 4-folds pour selectionner typiquement 3 variables\n",
    "            -> Les variables selectionnees sont elles stables ?\n",
    "            -> Est-ce que le modele garde un bon pouvoir de prediction lorsque avec 3 variables selectionnees\n"
   ]
  },
  {
   "cell_type": "code",
   "execution_count": null,
   "metadata": {
    "collapsed": true
   },
   "outputs": [],
   "source": []
  },
  {
   "cell_type": "markdown",
   "metadata": {},
   "source": [
    "### QUESTION 4:\n",
    "Eventuellement, tester un algorithme de selection de type forward avec un critere BIC. \n",
    "Comparer les variables selectionnees avec celles de la question 3"
   ]
  }
 ],
 "metadata": {
  "kernelspec": {
   "display_name": "Python 3",
   "language": "python",
   "name": "python3"
  },
  "language_info": {
   "codemirror_mode": {
    "name": "ipython",
    "version": 3
   },
   "file_extension": ".py",
   "mimetype": "text/x-python",
   "name": "python",
   "nbconvert_exporter": "python",
   "pygments_lexer": "ipython3",
   "version": "3.6.4"
  }
 },
 "nbformat": 4,
 "nbformat_minor": 2
}
