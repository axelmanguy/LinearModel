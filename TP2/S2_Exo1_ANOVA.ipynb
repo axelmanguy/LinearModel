{
 "cells": [
  {
   "cell_type": "code",
   "execution_count": 16,
   "metadata": {},
   "outputs": [
    {
     "data": {
      "image/png": "[encoded data removed]",
      "text/plain": [
       "<matplotlib.figure.Figure at 0x7fd4fd5e1748>"
      ]
     },
     "metadata": {},
     "output_type": "display_data"
    }
   ],
   "source": [
    "#exemple inspire de  https://www.marsja.se/four-ways-to-conduct-one-way-anovas-using-python/\n",
    "\n",
    "#1) INIT\n",
    "\n",
    "#1.1) Importe les modules matplotlib (pour la visualisation de graphes) et pandas (pour la manipulation de donnees)\n",
    "import matplotlib.pyplot as plt\n",
    "import pandas as pd\n",
    "from scipy import stats\n",
    "\n",
    "#1.2) charge les donnees\n",
    "data = pd.read_csv(\"PlantGrowth.csv\")\n",
    " \n",
    "#1.3) represente un resume des données (necessite d'avoir appele matplotlib)\n",
    "data.boxplot('weight', by='group', figsize=(12, 8))\n",
    "plt.show()\n",
    "\n",
    "#QUESTION 1 : Que signifient les box-plots (ou boite a moustache) ? \n",
    "#             Vous pouvez taper 'data.boxplot?' pour des informations elementaires\n",
    "#             Les groupes vous semblent-il distribues de maniere similaire ?\n",
    "#             Les variabilités intra-groupe vous semblent-t-elles similaires ?\n",
    "\n",
    "## -> Elle represente le 1 et 3 quartile, plus la mediane d'un jeu de donnees. Elles representent de meme les valeurs limites au dela desquelles des observations peuvent etre considerees comme abérantes\n"
   ]
  },
  {
   "cell_type": "code",
   "execution_count": 14,
   "metadata": {},
   "outputs": [],
   "source": [
    "\n",
    "#2) STATISTIQUE DE FISHER\n",
    "\n",
    " \n",
    "grps = pd.unique(data.group.values)\n",
    "d_data = {grp:data['weight'][data.group == grp] for grp in grps}\n",
    " \n",
    "k = len(grps)  # nombre de groupes\n",
    "N = len(data.values)  # nombre d'observations\n",
    "n = data.groupby('group').size()[0] #nombre d'observations dans chaque groupe (on remarque que tous les groupes on la meme taille)\n",
    "\n",
    "#calcule la variabilite due aux interactions entre groupes (Sum of Squares Between)\n",
    "SSbetween = (sum(data.groupby('group').sum()['weight']**2)/n)- (data['weight'].sum()**2)/N\n",
    "\n",
    "#calcule la variabilite due aux differences entre les observations (Sum of Squares Within)\n",
    "sum_y_squared = sum([value**2 for value in data['weight'].values])\n",
    "SSwithin = sum_y_squared - sum(data.groupby('group').sum()['weight']**2)/n\n",
    "\n",
    "#calcule la variabilite totale (Sum of Squares Total)\n",
    "SStotal = sum_y_squared - (data['weight'].sum()**2)/N\n",
    "\n",
    "#defini les degres de liberte\n",
    "DFbetween = k - 1\n",
    "DFwithin = N - k\n",
    "DFtotal = N - 1\n",
    "\n",
    "#calcule la statistique de Fisher\n",
    "MSbetween = SSbetween/DFbetween\n",
    "MSwithin = SSwithin/DFwithin\n",
    "\n",
    "F = MSbetween/MSwithin\n",
    "\n",
    "\n",
    "p = stats.f.sf(F, DFbetween, DFwithin)\n",
    "\n",
    "#QUESTION 2 : Faire le lien avec la section 4.3 du cours pour comprendre ce que signifie p.\n",
    "\n",
    "# -> En tapant stats.f.sf?, on peut voir que p est la survival function, c'est a dire (1-cdf) ou la cdf est la 'cumulative distribution function'. Vu que la valeur est inferieure a 0.05, on rejette l'hypothese nulle, bref on conclue qu'il y a une inegalite des moyennes.\n",
    "\n",
    "\n"
   ]
  },
  {
   "cell_type": "code",
   "execution_count": 15,
   "metadata": {},
   "outputs": [
    {
     "data": {
      "image/png": "[encoded data removed]",
      "text/plain": [
       "<matplotlib.figure.Figure at 0x7fd4fd599a20>"
      ]
     },
     "metadata": {},
     "output_type": "display_data"
    },
    {
     "ename": "AttributeError",
     "evalue": "'DataFrame' object has no attribute 'group'",
     "output_type": "error",
     "traceback": [
      "\u001b[0;31m---------------------------------------------------------------------------\u001b[0m",
      "\u001b[0;31mAttributeError\u001b[0m                            Traceback (most recent call last)",
      "\u001b[0;32m<ipython-input-15-0c2fd5d83c5e>\u001b[0m in \u001b[0;36m<module>\u001b[0;34m()\u001b[0m\n\u001b[1;32m     11\u001b[0m \u001b[0;34m\u001b[0m\u001b[0m\n\u001b[1;32m     12\u001b[0m \u001b[0;34m\u001b[0m\u001b[0m\n\u001b[0;32m---> 13\u001b[0;31m \u001b[0mgrps\u001b[0m \u001b[0;34m=\u001b[0m \u001b[0mpd\u001b[0m\u001b[0;34m.\u001b[0m\u001b[0munique\u001b[0m\u001b[0;34m(\u001b[0m\u001b[0mdata\u001b[0m\u001b[0;34m.\u001b[0m\u001b[0mgroup\u001b[0m\u001b[0;34m.\u001b[0m\u001b[0mvalues\u001b[0m\u001b[0;34m)\u001b[0m\u001b[0;34m\u001b[0m\u001b[0m\n\u001b[0m\u001b[1;32m     14\u001b[0m \u001b[0md_data\u001b[0m \u001b[0;34m=\u001b[0m \u001b[0;34m{\u001b[0m\u001b[0mgrp\u001b[0m\u001b[0;34m:\u001b[0m\u001b[0mdata\u001b[0m\u001b[0;34m[\u001b[0m\u001b[0;34m'f2'\u001b[0m\u001b[0;34m]\u001b[0m\u001b[0;34m[\u001b[0m\u001b[0mdata\u001b[0m\u001b[0;34m.\u001b[0m\u001b[0mgroup\u001b[0m \u001b[0;34m==\u001b[0m \u001b[0mgrp\u001b[0m\u001b[0;34m]\u001b[0m \u001b[0;32mfor\u001b[0m \u001b[0mgrp\u001b[0m \u001b[0;32min\u001b[0m \u001b[0mgrps\u001b[0m\u001b[0;34m}\u001b[0m\u001b[0;34m\u001b[0m\u001b[0m\n\u001b[1;32m     15\u001b[0m \u001b[0;34m\u001b[0m\u001b[0m\n",
      "\u001b[0;32m/home/vacat/x.olive/students/lib/python3.6/site-packages/pandas/core/generic.py\u001b[0m in \u001b[0;36m__getattr__\u001b[0;34m(self, name)\u001b[0m\n\u001b[1;32m   3079\u001b[0m             \u001b[0;32mif\u001b[0m \u001b[0mname\u001b[0m \u001b[0;32min\u001b[0m \u001b[0mself\u001b[0m\u001b[0;34m.\u001b[0m\u001b[0m_info_axis\u001b[0m\u001b[0;34m:\u001b[0m\u001b[0;34m\u001b[0m\u001b[0m\n\u001b[1;32m   3080\u001b[0m                 \u001b[0;32mreturn\u001b[0m \u001b[0mself\u001b[0m\u001b[0;34m[\u001b[0m\u001b[0mname\u001b[0m\u001b[0;34m]\u001b[0m\u001b[0;34m\u001b[0m\u001b[0m\n\u001b[0;32m-> 3081\u001b[0;31m             \u001b[0;32mreturn\u001b[0m \u001b[0mobject\u001b[0m\u001b[0;34m.\u001b[0m\u001b[0m__getattribute__\u001b[0m\u001b[0;34m(\u001b[0m\u001b[0mself\u001b[0m\u001b[0;34m,\u001b[0m \u001b[0mname\u001b[0m\u001b[0;34m)\u001b[0m\u001b[0;34m\u001b[0m\u001b[0m\n\u001b[0m\u001b[1;32m   3082\u001b[0m \u001b[0;34m\u001b[0m\u001b[0m\n\u001b[1;32m   3083\u001b[0m     \u001b[0;32mdef\u001b[0m \u001b[0m__setattr__\u001b[0m\u001b[0;34m(\u001b[0m\u001b[0mself\u001b[0m\u001b[0;34m,\u001b[0m \u001b[0mname\u001b[0m\u001b[0;34m,\u001b[0m \u001b[0mvalue\u001b[0m\u001b[0;34m)\u001b[0m\u001b[0;34m:\u001b[0m\u001b[0;34m\u001b[0m\u001b[0m\n",
      "\u001b[0;31mAttributeError\u001b[0m: 'DataFrame' object has no attribute 'group'"
     ]
    }
   ],
   "source": [
    "\n",
    "#QUESTION 3 : Adapter ce code pour etudier la colonne 'f2' des donnees IRIS de 'DataIris.csv'.\n",
    "\n",
    "\n",
    "\n",
    "data = pd.read_csv(\"DataIris.csv\")\n",
    " \n",
    "data.boxplot('f2', by='IRIS_type', figsize=(12, 8))\n",
    "plt.show()\n",
    "\n",
    "\n",
    " \n",
    "grps = pd.unique(data.group.values)\n",
    "d_data = {grp:data['f2'][data.group == grp] for grp in grps}\n",
    " \n",
    "k = len(grps)  \n",
    "N = len(data.values)  \n",
    "n = data.groupby('IRIS_type').size()[0] \n",
    "\n",
    "#calcule la variabilite due aux interactions entre groupes (Sum of Squares Between)\n",
    "SSbetween = (sum(data.groupby('IRIS_type').sum()['f2']**2)/n)- (data['f2'].sum()**2)/N\n",
    "\n",
    "#calcule la variabilite due aux differences entre les observations (Sum of Squares Within)\n",
    "sum_y_squared = sum([value**2 for value in data['f2'].values])\n",
    "SSwithin = sum_y_squared - sum(data.groupby('IRIS_type').sum()['f2']**2)/n\n",
    "\n",
    "#calcule la variabilite totale (Sum of Squares Total)\n",
    "SStotal = sum_y_squared - (data['f2'].sum()**2)/N\n",
    "\n",
    "#defini les degres de liberte\n",
    "DFbetween = k - 1\n",
    "DFwithin = N - k\n",
    "DFtotal = N - 1\n",
    "\n",
    "#calcule la statistique de Fisher\n",
    "MSbetween = SSbetween/DFbetween\n",
    "MSwithin = SSwithin/DFwithin\n",
    "\n",
    "F = MSbetween/MSwithin\n",
    "\n",
    "\n",
    "p = stats.f.sf(F, DFbetween, DFwithin)\n"
   ]
  },
  {
   "cell_type": "code",
   "execution_count": 10,
   "metadata": {},
   "outputs": [
    {
     "name": "stdout",
     "output_type": "stream",
     "text": [
      "2.68821190068e-14\n"
     ]
    }
   ],
   "source": [
    "#QUESTION 4 : Est-ce qu'un test non-parametrique de kruskal wallis mene aux mêmes conclusions ?\n",
    "#             Utiliser la fonction scipy.stats.kruskal\n",
    "\n",
    "from scipy.stats import kruskal\n",
    "\n",
    "f2vals=data['f2'].values\n",
    "\n",
    "kres=kruskal(f2vals[0:50],f2vals[50:100],f2vals[100:150])\n",
    "\n",
    "p=kres.pvalue\n",
    "print(p)"
   ]
  }
 ],
 "metadata": {
  "kernelspec": {
   "display_name": "Python 3",
   "language": "python",
   "name": "python3"
  },
  "language_info": {
   "codemirror_mode": {
    "name": "ipython",
    "version": 3
   },
   "file_extension": ".py",
   "mimetype": "text/x-python",
   "name": "python",
   "nbconvert_exporter": "python",
   "pygments_lexer": "ipython3",
   "version": "3.6.4"
  }
 },
 "nbformat": 4,
 "nbformat_minor": 2
}
